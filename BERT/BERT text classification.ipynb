{
  "nbformat": 4,
  "nbformat_minor": 0,
  "metadata": {
    "colab": {
      "name": "BERT text classification",
      "provenance": [],
      "collapsed_sections": [],
      "toc_visible": true
    },
    "kernelspec": {
      "name": "python3",
      "display_name": "Python 3"
    },
    "accelerator": "GPU"
  },
  "cells": [
    {
      "cell_type": "markdown",
      "metadata": {
        "id": "osVNDLSfjLGA"
      },
      "source": [
        "## Loading the data"
      ]
    },
    {
      "cell_type": "markdown",
      "metadata": {
        "id": "CtG6AByTjOJs"
      },
      "source": [
        "We will use the [Coronavirus tweets NLP - Text Classification](https://www.kaggle.com/datatattle/covid-19-nlp-text-classification) dataset."
      ]
    },
    {
      "cell_type": "code",
      "metadata": {
        "id": "LQKbX5l4hPzD"
      },
      "source": [
        "from google.colab import drive\n",
        "drive.mount('/content/drive')"
      ],
      "execution_count": null,
      "outputs": []
    },
    {
      "cell_type": "code",
      "metadata": {
        "id": "p1ggdMYmheWk"
      },
      "source": [
        "!cp '/content/drive/MyDrive/Colab Notebooks/NLP1C/BERT/Corona_NLP_train.csv' .\n",
        "!cp '/content/drive/MyDrive/Colab Notebooks/NLP1C/BERT/Corona_NLP_test.csv' ."
      ],
      "execution_count": 5,
      "outputs": []
    },
    {
      "cell_type": "code",
      "metadata": {
        "id": "prgXpi14hvtO"
      },
      "source": [
        "import pandas as pd\n",
        "import numpy as np"
      ],
      "execution_count": 6,
      "outputs": []
    },
    {
      "cell_type": "code",
      "metadata": {
        "id": "9a_UpZBih1KP"
      },
      "source": [
        "train_df = pd.read_csv('Corona_NLP_train.csv', encoding='latin')\n",
        "test_df = pd.read_csv('Corona_NLP_test.csv', encoding='latin')"
      ],
      "execution_count": 7,
      "outputs": []
    },
    {
      "cell_type": "code",
      "metadata": {
        "colab": {
          "base_uri": "https://localhost:8080/",
          "height": 198
        },
        "id": "UX6R590nbRxy",
        "outputId": "ee7f88c9-926f-48ed-8dc8-b01fc53fd203"
      },
      "source": [
        "train_df.head()"
      ],
      "execution_count": 8,
      "outputs": [
        {
          "output_type": "execute_result",
          "data": {
            "text/html": [
              "<div>\n",
              "<style scoped>\n",
              "    .dataframe tbody tr th:only-of-type {\n",
              "        vertical-align: middle;\n",
              "    }\n",
              "\n",
              "    .dataframe tbody tr th {\n",
              "        vertical-align: top;\n",
              "    }\n",
              "\n",
              "    .dataframe thead th {\n",
              "        text-align: right;\n",
              "    }\n",
              "</style>\n",
              "<table border=\"1\" class=\"dataframe\">\n",
              "  <thead>\n",
              "    <tr style=\"text-align: right;\">\n",
              "      <th></th>\n",
              "      <th>UserName</th>\n",
              "      <th>ScreenName</th>\n",
              "      <th>Location</th>\n",
              "      <th>TweetAt</th>\n",
              "      <th>OriginalTweet</th>\n",
              "      <th>Sentiment</th>\n",
              "    </tr>\n",
              "  </thead>\n",
              "  <tbody>\n",
              "    <tr>\n",
              "      <th>0</th>\n",
              "      <td>3799</td>\n",
              "      <td>48751</td>\n",
              "      <td>London</td>\n",
              "      <td>16-03-2020</td>\n",
              "      <td>@MeNyrbie @Phil_Gahan @Chrisitv https://t.co/i...</td>\n",
              "      <td>Neutral</td>\n",
              "    </tr>\n",
              "    <tr>\n",
              "      <th>1</th>\n",
              "      <td>3800</td>\n",
              "      <td>48752</td>\n",
              "      <td>UK</td>\n",
              "      <td>16-03-2020</td>\n",
              "      <td>advice Talk to your neighbours family to excha...</td>\n",
              "      <td>Positive</td>\n",
              "    </tr>\n",
              "    <tr>\n",
              "      <th>2</th>\n",
              "      <td>3801</td>\n",
              "      <td>48753</td>\n",
              "      <td>Vagabonds</td>\n",
              "      <td>16-03-2020</td>\n",
              "      <td>Coronavirus Australia: Woolworths to give elde...</td>\n",
              "      <td>Positive</td>\n",
              "    </tr>\n",
              "    <tr>\n",
              "      <th>3</th>\n",
              "      <td>3802</td>\n",
              "      <td>48754</td>\n",
              "      <td>NaN</td>\n",
              "      <td>16-03-2020</td>\n",
              "      <td>My food stock is not the only one which is emp...</td>\n",
              "      <td>Positive</td>\n",
              "    </tr>\n",
              "    <tr>\n",
              "      <th>4</th>\n",
              "      <td>3803</td>\n",
              "      <td>48755</td>\n",
              "      <td>NaN</td>\n",
              "      <td>16-03-2020</td>\n",
              "      <td>Me, ready to go at supermarket during the #COV...</td>\n",
              "      <td>Extremely Negative</td>\n",
              "    </tr>\n",
              "  </tbody>\n",
              "</table>\n",
              "</div>"
            ],
            "text/plain": [
              "   UserName  ...           Sentiment\n",
              "0      3799  ...             Neutral\n",
              "1      3800  ...            Positive\n",
              "2      3801  ...            Positive\n",
              "3      3802  ...            Positive\n",
              "4      3803  ...  Extremely Negative\n",
              "\n",
              "[5 rows x 6 columns]"
            ]
          },
          "metadata": {
            "tags": []
          },
          "execution_count": 8
        }
      ]
    },
    {
      "cell_type": "code",
      "metadata": {
        "colab": {
          "base_uri": "https://localhost:8080/",
          "height": 198
        },
        "id": "-hc8keDQiZmO",
        "outputId": "a9deb764-9f9a-4aef-f85f-801233e511a0"
      },
      "source": [
        "test_df.head()"
      ],
      "execution_count": 9,
      "outputs": [
        {
          "output_type": "execute_result",
          "data": {
            "text/html": [
              "<div>\n",
              "<style scoped>\n",
              "    .dataframe tbody tr th:only-of-type {\n",
              "        vertical-align: middle;\n",
              "    }\n",
              "\n",
              "    .dataframe tbody tr th {\n",
              "        vertical-align: top;\n",
              "    }\n",
              "\n",
              "    .dataframe thead th {\n",
              "        text-align: right;\n",
              "    }\n",
              "</style>\n",
              "<table border=\"1\" class=\"dataframe\">\n",
              "  <thead>\n",
              "    <tr style=\"text-align: right;\">\n",
              "      <th></th>\n",
              "      <th>UserName</th>\n",
              "      <th>ScreenName</th>\n",
              "      <th>Location</th>\n",
              "      <th>TweetAt</th>\n",
              "      <th>OriginalTweet</th>\n",
              "      <th>Sentiment</th>\n",
              "    </tr>\n",
              "  </thead>\n",
              "  <tbody>\n",
              "    <tr>\n",
              "      <th>0</th>\n",
              "      <td>1</td>\n",
              "      <td>44953</td>\n",
              "      <td>NYC</td>\n",
              "      <td>02-03-2020</td>\n",
              "      <td>TRENDING: New Yorkers encounter empty supermar...</td>\n",
              "      <td>Extremely Negative</td>\n",
              "    </tr>\n",
              "    <tr>\n",
              "      <th>1</th>\n",
              "      <td>2</td>\n",
              "      <td>44954</td>\n",
              "      <td>Seattle, WA</td>\n",
              "      <td>02-03-2020</td>\n",
              "      <td>When I couldn't find hand sanitizer at Fred Me...</td>\n",
              "      <td>Positive</td>\n",
              "    </tr>\n",
              "    <tr>\n",
              "      <th>2</th>\n",
              "      <td>3</td>\n",
              "      <td>44955</td>\n",
              "      <td>NaN</td>\n",
              "      <td>02-03-2020</td>\n",
              "      <td>Find out how you can protect yourself and love...</td>\n",
              "      <td>Extremely Positive</td>\n",
              "    </tr>\n",
              "    <tr>\n",
              "      <th>3</th>\n",
              "      <td>4</td>\n",
              "      <td>44956</td>\n",
              "      <td>Chicagoland</td>\n",
              "      <td>02-03-2020</td>\n",
              "      <td>#Panic buying hits #NewYork City as anxious sh...</td>\n",
              "      <td>Negative</td>\n",
              "    </tr>\n",
              "    <tr>\n",
              "      <th>4</th>\n",
              "      <td>5</td>\n",
              "      <td>44957</td>\n",
              "      <td>Melbourne, Victoria</td>\n",
              "      <td>03-03-2020</td>\n",
              "      <td>#toiletpaper #dunnypaper #coronavirus #coronav...</td>\n",
              "      <td>Neutral</td>\n",
              "    </tr>\n",
              "  </tbody>\n",
              "</table>\n",
              "</div>"
            ],
            "text/plain": [
              "   UserName  ...           Sentiment\n",
              "0         1  ...  Extremely Negative\n",
              "1         2  ...            Positive\n",
              "2         3  ...  Extremely Positive\n",
              "3         4  ...            Negative\n",
              "4         5  ...             Neutral\n",
              "\n",
              "[5 rows x 6 columns]"
            ]
          },
          "metadata": {
            "tags": []
          },
          "execution_count": 9
        }
      ]
    },
    {
      "cell_type": "code",
      "metadata": {
        "id": "TuqaQvi1fa6S"
      },
      "source": [
        "mapping = {'Neutral': 0,\n",
        "           'Positive': 1,\n",
        "           'Negative': 2,\n",
        "           'Extremely Positive': 3,\n",
        "           'Extremely Negative': 4}"
      ],
      "execution_count": 10,
      "outputs": []
    },
    {
      "cell_type": "code",
      "metadata": {
        "id": "a4p4wfOcbIXA"
      },
      "source": [
        "train_df['Sentiment'] = train_df['Sentiment'].map(mapping)\n",
        "test_df['Sentiment'] = test_df['Sentiment'].map(mapping)"
      ],
      "execution_count": 11,
      "outputs": []
    },
    {
      "cell_type": "code",
      "metadata": {
        "colab": {
          "base_uri": "https://localhost:8080/",
          "height": 198
        },
        "id": "wclz5kbIh7cR",
        "outputId": "f3e998e2-03c4-4401-cfef-eda04d4b6301"
      },
      "source": [
        "train_df.head()"
      ],
      "execution_count": 12,
      "outputs": [
        {
          "output_type": "execute_result",
          "data": {
            "text/html": [
              "<div>\n",
              "<style scoped>\n",
              "    .dataframe tbody tr th:only-of-type {\n",
              "        vertical-align: middle;\n",
              "    }\n",
              "\n",
              "    .dataframe tbody tr th {\n",
              "        vertical-align: top;\n",
              "    }\n",
              "\n",
              "    .dataframe thead th {\n",
              "        text-align: right;\n",
              "    }\n",
              "</style>\n",
              "<table border=\"1\" class=\"dataframe\">\n",
              "  <thead>\n",
              "    <tr style=\"text-align: right;\">\n",
              "      <th></th>\n",
              "      <th>UserName</th>\n",
              "      <th>ScreenName</th>\n",
              "      <th>Location</th>\n",
              "      <th>TweetAt</th>\n",
              "      <th>OriginalTweet</th>\n",
              "      <th>Sentiment</th>\n",
              "    </tr>\n",
              "  </thead>\n",
              "  <tbody>\n",
              "    <tr>\n",
              "      <th>0</th>\n",
              "      <td>3799</td>\n",
              "      <td>48751</td>\n",
              "      <td>London</td>\n",
              "      <td>16-03-2020</td>\n",
              "      <td>@MeNyrbie @Phil_Gahan @Chrisitv https://t.co/i...</td>\n",
              "      <td>0</td>\n",
              "    </tr>\n",
              "    <tr>\n",
              "      <th>1</th>\n",
              "      <td>3800</td>\n",
              "      <td>48752</td>\n",
              "      <td>UK</td>\n",
              "      <td>16-03-2020</td>\n",
              "      <td>advice Talk to your neighbours family to excha...</td>\n",
              "      <td>1</td>\n",
              "    </tr>\n",
              "    <tr>\n",
              "      <th>2</th>\n",
              "      <td>3801</td>\n",
              "      <td>48753</td>\n",
              "      <td>Vagabonds</td>\n",
              "      <td>16-03-2020</td>\n",
              "      <td>Coronavirus Australia: Woolworths to give elde...</td>\n",
              "      <td>1</td>\n",
              "    </tr>\n",
              "    <tr>\n",
              "      <th>3</th>\n",
              "      <td>3802</td>\n",
              "      <td>48754</td>\n",
              "      <td>NaN</td>\n",
              "      <td>16-03-2020</td>\n",
              "      <td>My food stock is not the only one which is emp...</td>\n",
              "      <td>1</td>\n",
              "    </tr>\n",
              "    <tr>\n",
              "      <th>4</th>\n",
              "      <td>3803</td>\n",
              "      <td>48755</td>\n",
              "      <td>NaN</td>\n",
              "      <td>16-03-2020</td>\n",
              "      <td>Me, ready to go at supermarket during the #COV...</td>\n",
              "      <td>4</td>\n",
              "    </tr>\n",
              "  </tbody>\n",
              "</table>\n",
              "</div>"
            ],
            "text/plain": [
              "   UserName  ...  Sentiment\n",
              "0      3799  ...          0\n",
              "1      3800  ...          1\n",
              "2      3801  ...          1\n",
              "3      3802  ...          1\n",
              "4      3803  ...          4\n",
              "\n",
              "[5 rows x 6 columns]"
            ]
          },
          "metadata": {
            "tags": []
          },
          "execution_count": 12
        }
      ]
    },
    {
      "cell_type": "code",
      "metadata": {
        "colab": {
          "base_uri": "https://localhost:8080/",
          "height": 198
        },
        "id": "Np8l7refbcn8",
        "outputId": "13bec6ae-0430-4f8a-c2f7-0a19423dc042"
      },
      "source": [
        "test_df.head()"
      ],
      "execution_count": 13,
      "outputs": [
        {
          "output_type": "execute_result",
          "data": {
            "text/html": [
              "<div>\n",
              "<style scoped>\n",
              "    .dataframe tbody tr th:only-of-type {\n",
              "        vertical-align: middle;\n",
              "    }\n",
              "\n",
              "    .dataframe tbody tr th {\n",
              "        vertical-align: top;\n",
              "    }\n",
              "\n",
              "    .dataframe thead th {\n",
              "        text-align: right;\n",
              "    }\n",
              "</style>\n",
              "<table border=\"1\" class=\"dataframe\">\n",
              "  <thead>\n",
              "    <tr style=\"text-align: right;\">\n",
              "      <th></th>\n",
              "      <th>UserName</th>\n",
              "      <th>ScreenName</th>\n",
              "      <th>Location</th>\n",
              "      <th>TweetAt</th>\n",
              "      <th>OriginalTweet</th>\n",
              "      <th>Sentiment</th>\n",
              "    </tr>\n",
              "  </thead>\n",
              "  <tbody>\n",
              "    <tr>\n",
              "      <th>0</th>\n",
              "      <td>1</td>\n",
              "      <td>44953</td>\n",
              "      <td>NYC</td>\n",
              "      <td>02-03-2020</td>\n",
              "      <td>TRENDING: New Yorkers encounter empty supermar...</td>\n",
              "      <td>4</td>\n",
              "    </tr>\n",
              "    <tr>\n",
              "      <th>1</th>\n",
              "      <td>2</td>\n",
              "      <td>44954</td>\n",
              "      <td>Seattle, WA</td>\n",
              "      <td>02-03-2020</td>\n",
              "      <td>When I couldn't find hand sanitizer at Fred Me...</td>\n",
              "      <td>1</td>\n",
              "    </tr>\n",
              "    <tr>\n",
              "      <th>2</th>\n",
              "      <td>3</td>\n",
              "      <td>44955</td>\n",
              "      <td>NaN</td>\n",
              "      <td>02-03-2020</td>\n",
              "      <td>Find out how you can protect yourself and love...</td>\n",
              "      <td>3</td>\n",
              "    </tr>\n",
              "    <tr>\n",
              "      <th>3</th>\n",
              "      <td>4</td>\n",
              "      <td>44956</td>\n",
              "      <td>Chicagoland</td>\n",
              "      <td>02-03-2020</td>\n",
              "      <td>#Panic buying hits #NewYork City as anxious sh...</td>\n",
              "      <td>2</td>\n",
              "    </tr>\n",
              "    <tr>\n",
              "      <th>4</th>\n",
              "      <td>5</td>\n",
              "      <td>44957</td>\n",
              "      <td>Melbourne, Victoria</td>\n",
              "      <td>03-03-2020</td>\n",
              "      <td>#toiletpaper #dunnypaper #coronavirus #coronav...</td>\n",
              "      <td>0</td>\n",
              "    </tr>\n",
              "  </tbody>\n",
              "</table>\n",
              "</div>"
            ],
            "text/plain": [
              "   UserName  ...  Sentiment\n",
              "0         1  ...          4\n",
              "1         2  ...          1\n",
              "2         3  ...          3\n",
              "3         4  ...          2\n",
              "4         5  ...          0\n",
              "\n",
              "[5 rows x 6 columns]"
            ]
          },
          "metadata": {
            "tags": []
          },
          "execution_count": 13
        }
      ]
    },
    {
      "cell_type": "code",
      "metadata": {
        "colab": {
          "base_uri": "https://localhost:8080/"
        },
        "id": "PEeU2nKHikMB",
        "outputId": "fabdfbb2-e773-4378-d50d-725ef7d37287"
      },
      "source": [
        "print(train_df.info())"
      ],
      "execution_count": 14,
      "outputs": [
        {
          "output_type": "stream",
          "text": [
            "<class 'pandas.core.frame.DataFrame'>\n",
            "RangeIndex: 41157 entries, 0 to 41156\n",
            "Data columns (total 6 columns):\n",
            " #   Column         Non-Null Count  Dtype \n",
            "---  ------         --------------  ----- \n",
            " 0   UserName       41157 non-null  int64 \n",
            " 1   ScreenName     41157 non-null  int64 \n",
            " 2   Location       32567 non-null  object\n",
            " 3   TweetAt        41157 non-null  object\n",
            " 4   OriginalTweet  41157 non-null  object\n",
            " 5   Sentiment      41157 non-null  int64 \n",
            "dtypes: int64(3), object(3)\n",
            "memory usage: 1.9+ MB\n",
            "None\n"
          ],
          "name": "stdout"
        }
      ]
    },
    {
      "cell_type": "code",
      "metadata": {
        "colab": {
          "base_uri": "https://localhost:8080/"
        },
        "id": "AcxIoh84i7Br",
        "outputId": "97ef08de-9edb-4bc6-ff94-0acb189e20d2"
      },
      "source": [
        "print(test_df.info())"
      ],
      "execution_count": 15,
      "outputs": [
        {
          "output_type": "stream",
          "text": [
            "<class 'pandas.core.frame.DataFrame'>\n",
            "RangeIndex: 3798 entries, 0 to 3797\n",
            "Data columns (total 6 columns):\n",
            " #   Column         Non-Null Count  Dtype \n",
            "---  ------         --------------  ----- \n",
            " 0   UserName       3798 non-null   int64 \n",
            " 1   ScreenName     3798 non-null   int64 \n",
            " 2   Location       2964 non-null   object\n",
            " 3   TweetAt        3798 non-null   object\n",
            " 4   OriginalTweet  3798 non-null   object\n",
            " 5   Sentiment      3798 non-null   int64 \n",
            "dtypes: int64(3), object(3)\n",
            "memory usage: 178.2+ KB\n",
            "None\n"
          ],
          "name": "stdout"
        }
      ]
    },
    {
      "cell_type": "markdown",
      "metadata": {
        "id": "MUfysSRqjIGg"
      },
      "source": [
        "## Exploring data"
      ]
    },
    {
      "cell_type": "markdown",
      "metadata": {
        "id": "8SBPa2cerC7j"
      },
      "source": [
        "Let's have a look at the lengths of comments from the dataset to know, whether there are entries with the length greater than 512 tokens after tokenizing the comment."
      ]
    },
    {
      "cell_type": "code",
      "metadata": {
        "id": "BP3HBgVZkdos"
      },
      "source": [
        "!pip install transformers"
      ],
      "execution_count": null,
      "outputs": []
    },
    {
      "cell_type": "code",
      "metadata": {
        "id": "q2ZAonR2kgcH"
      },
      "source": [
        "from transformers import BertTokenizer, BertModel"
      ],
      "execution_count": 17,
      "outputs": []
    },
    {
      "cell_type": "code",
      "metadata": {
        "id": "6Gpg0Y-YlFvy"
      },
      "source": [
        "tokenizer = BertTokenizer.from_pretrained('bert-base-uncased', do_lower_case=True)"
      ],
      "execution_count": 18,
      "outputs": []
    },
    {
      "cell_type": "code",
      "metadata": {
        "id": "blDzF5mvlSER"
      },
      "source": [
        "token_lengths = []\n",
        "for i in range(len(train_df)):\n",
        "    text = train_df.iloc[i]['OriginalTweet']\n",
        "    tokens = tokenizer.tokenize(text)\n",
        "    token_lengths.append(len(tokens))"
      ],
      "execution_count": 19,
      "outputs": []
    },
    {
      "cell_type": "code",
      "metadata": {
        "colab": {
          "base_uri": "https://localhost:8080/"
        },
        "id": "S_f_p_bQriIj",
        "outputId": "a7d47a08-8cbb-4d36-e311-2eef5ae41a6a"
      },
      "source": [
        "print('Max length of tokenized comment: {}'.format(np.max(token_lengths)))\n",
        "print('Min length of tokenized comment: {}'.format(np.min(token_lengths)))\n",
        "print('Median length of tokenized comment: {}'.format(np.median(token_lengths)))"
      ],
      "execution_count": 20,
      "outputs": [
        {
          "output_type": "stream",
          "text": [
            "Max length of tokenized comment: 246\n",
            "Min length of tokenized comment: 1\n",
            "Median length of tokenized comment: 53.0\n"
          ],
          "name": "stdout"
        }
      ]
    },
    {
      "cell_type": "markdown",
      "metadata": {
        "id": "ueM5lwp_ry3v"
      },
      "source": [
        "We see that the maximum length is 246, so we don't have to worry about exceeding the maximum possible sequence length for BERT, which is 512. Anyway, let's have a look at tokenized comments length ditribution."
      ]
    },
    {
      "cell_type": "code",
      "metadata": {
        "id": "Vru9ckGplhi0"
      },
      "source": [
        "import matplotlib.pyplot as plt\n",
        "import seaborn as sns"
      ],
      "execution_count": 21,
      "outputs": []
    },
    {
      "cell_type": "code",
      "metadata": {
        "colab": {
          "base_uri": "https://localhost:8080/",
          "height": 372
        },
        "id": "ppjw2F2jmeOr",
        "outputId": "0d94ced6-9293-4a92-c4e3-cde7a3470060"
      },
      "source": [
        "sns.set(style='darkgrid')\n",
        "sns.set(font_scale=1.5)\n",
        "plt.rcParams['figure.figsize'] = (10, 5)\n",
        "\n",
        "sns.histplot(token_lengths)\n",
        "plt.title('Comments lengths')\n",
        "plt.xlabel('Comment length')\n",
        "plt.ylabel('# of comments')\n",
        "plt.show()"
      ],
      "execution_count": 22,
      "outputs": [
        {
          "output_type": "display_data",
          "data": {
            "image/png": "[encoded data removed]",
            "text/plain": [
              "<Figure size 720x360 with 1 Axes>"
            ]
          },
          "metadata": {
            "tags": []
          }
        }
      ]
    },
    {
      "cell_type": "code",
      "metadata": {
        "id": "H7Q-NqWH0S5Y"
      },
      "source": [
        "token_lengths_test = []\n",
        "for i in range(len(test_df)):\n",
        "    text = test_df.iloc[i]['OriginalTweet']\n",
        "    tokens = tokenizer.tokenize(text)\n",
        "    token_lengths_test.append(len(tokens))"
      ],
      "execution_count": 23,
      "outputs": []
    },
    {
      "cell_type": "code",
      "metadata": {
        "colab": {
          "base_uri": "https://localhost:8080/"
        },
        "id": "0riyEX8t0S5e",
        "outputId": "b01507f9-6026-41d5-8510-238e848c4ebf"
      },
      "source": [
        "print('Max length of tokenized comment: {}'.format(np.max(token_lengths_test)))\n",
        "print('Min length of tokenized comment: {}'.format(np.min(token_lengths_test)))\n",
        "print('Median length of tokenized comment: {}'.format(np.median(token_lengths_test)))"
      ],
      "execution_count": 24,
      "outputs": [
        {
          "output_type": "stream",
          "text": [
            "Max length of tokenized comment: 141\n",
            "Min length of tokenized comment: 6\n",
            "Median length of tokenized comment: 57.0\n"
          ],
          "name": "stdout"
        }
      ]
    },
    {
      "cell_type": "code",
      "metadata": {
        "colab": {
          "base_uri": "https://localhost:8080/",
          "height": 372
        },
        "id": "qQOsnleP0S5f",
        "outputId": "0cc58a4f-ce13-408c-fa80-0488fd627ba0"
      },
      "source": [
        "sns.set(style='darkgrid')\n",
        "sns.set(font_scale=1.5)\n",
        "plt.rcParams['figure.figsize'] = (10, 5)\n",
        "\n",
        "sns.histplot(token_lengths_test)\n",
        "plt.title('Comments lengths')\n",
        "plt.xlabel('Comment length')\n",
        "plt.ylabel('# of comments')\n",
        "plt.show()"
      ],
      "execution_count": 25,
      "outputs": [
        {
          "output_type": "display_data",
          "data": {
            "image/png": "[encoded data removed]",
            "text/plain": [
              "<Figure size 720x360 with 1 Axes>"
            ]
          },
          "metadata": {
            "tags": []
          }
        }
      ]
    },
    {
      "cell_type": "markdown",
      "metadata": {
        "id": "OEo_uyDjpzzt"
      },
      "source": [
        "## Preparing data to the BERT model"
      ]
    },
    {
      "cell_type": "code",
      "metadata": {
        "id": "oxBqX4VDbvcu"
      },
      "source": [
        "import torch\n",
        "import torch.nn as nn"
      ],
      "execution_count": 26,
      "outputs": []
    },
    {
      "cell_type": "code",
      "metadata": {
        "id": "VCbw_h1Qa4Zq"
      },
      "source": [
        "train_tweets = train_df.OriginalTweet.values\n",
        "train_labels = train_df.Sentiment.values\n",
        "test_tweets = test_df.OriginalTweet.values\n",
        "test_labels = test_df.Sentiment.values"
      ],
      "execution_count": 27,
      "outputs": []
    },
    {
      "cell_type": "code",
      "metadata": {
        "id": "HClzjWROdCZb"
      },
      "source": [
        "train_labels = torch.tensor(train_labels)\n",
        "test_labels = torch.tensor(test_labels)"
      ],
      "execution_count": 28,
      "outputs": []
    },
    {
      "cell_type": "code",
      "metadata": {
        "id": "Bwb85wLcajLL"
      },
      "source": [
        "input_ids = []\n",
        "token_type_ids = []\n",
        "attention_masks = []\n",
        "\n",
        "for tweet in train_tweets:\n",
        "\n",
        "    encoded_dict = tokenizer.encode_plus(text=tweet,\n",
        "                                         add_special_tokens=True,\n",
        "                                         max_length=128,\n",
        "                                         padding='max_length',\n",
        "                                         truncation=True,\n",
        "                                         return_attention_mask=True,\n",
        "                                         return_token_type_ids=True,\n",
        "                                         return_tensors='pt')\n",
        "    \n",
        "    input_ids.append(encoded_dict['input_ids'])\n",
        "    token_type_ids.append(encoded_dict['token_type_ids'])\n",
        "    attention_masks.append(encoded_dict['attention_mask'])\n",
        "\n",
        "input_ids = torch.cat(input_ids, dim=0)\n",
        "token_type_ids = torch.cat(token_type_ids, dim=0)\n",
        "attention_masks = torch.cat(attention_masks, dim=0)"
      ],
      "execution_count": 29,
      "outputs": []
    },
    {
      "cell_type": "code",
      "metadata": {
        "colab": {
          "base_uri": "https://localhost:8080/"
        },
        "id": "OG-8Z3D1dVoE",
        "outputId": "b550f35c-0a8b-4b9c-d97d-fb9004ed0177"
      },
      "source": [
        "print('Tweet text: ', train_tweets[0])\n",
        "print('Token IDs:', input_ids[0])\n",
        "print('Token type ids: ', token_type_ids[0])\n",
        "print('Attention mask: ', attention_masks[0])"
      ],
      "execution_count": 37,
      "outputs": [
        {
          "output_type": "stream",
          "text": [
            "Tweet text:  @MeNyrbie @Phil_Gahan @Chrisitv https://t.co/iFz9FAn2Pa and https://t.co/xX6ghGFzCC and https://t.co/I2NlzdxNo8\n",
            "Token IDs: tensor([  101,  1030,  2273, 12541, 11283,  1030,  6316,  1035, 11721,  4819,\n",
            "         1030,  3782,  4183,  2615, 16770,  1024,  1013,  1013,  1056,  1012,\n",
            "         2522,  1013,  2065,  2480,  2683, 15143,  2475,  4502,  1998, 16770,\n",
            "         1024,  1013,  1013,  1056,  1012,  2522,  1013, 22038,  2575,  5603,\n",
            "        25708,  2480,  9468,  1998, 16770,  1024,  1013,  1013,  1056,  1012,\n",
            "         2522,  1013,  1045,  2475, 20554, 26494,  2595,  3630,  2620,   102,\n",
            "            0,     0,     0,     0,     0,     0,     0,     0,     0,     0,\n",
            "            0,     0,     0,     0,     0,     0,     0,     0,     0,     0,\n",
            "            0,     0,     0,     0,     0,     0,     0,     0,     0,     0,\n",
            "            0,     0,     0,     0,     0,     0,     0,     0,     0,     0,\n",
            "            0,     0,     0,     0,     0,     0,     0,     0,     0,     0,\n",
            "            0,     0,     0,     0,     0,     0,     0,     0,     0,     0,\n",
            "            0,     0,     0,     0,     0,     0,     0,     0])\n",
            "Token type ids:  tensor([0, 0, 0, 0, 0, 0, 0, 0, 0, 0, 0, 0, 0, 0, 0, 0, 0, 0, 0, 0, 0, 0, 0, 0,\n",
            "        0, 0, 0, 0, 0, 0, 0, 0, 0, 0, 0, 0, 0, 0, 0, 0, 0, 0, 0, 0, 0, 0, 0, 0,\n",
            "        0, 0, 0, 0, 0, 0, 0, 0, 0, 0, 0, 0, 0, 0, 0, 0, 0, 0, 0, 0, 0, 0, 0, 0,\n",
            "        0, 0, 0, 0, 0, 0, 0, 0, 0, 0, 0, 0, 0, 0, 0, 0, 0, 0, 0, 0, 0, 0, 0, 0,\n",
            "        0, 0, 0, 0, 0, 0, 0, 0, 0, 0, 0, 0, 0, 0, 0, 0, 0, 0, 0, 0, 0, 0, 0, 0,\n",
            "        0, 0, 0, 0, 0, 0, 0, 0])\n",
            "Attention mask:  tensor([1, 1, 1, 1, 1, 1, 1, 1, 1, 1, 1, 1, 1, 1, 1, 1, 1, 1, 1, 1, 1, 1, 1, 1,\n",
            "        1, 1, 1, 1, 1, 1, 1, 1, 1, 1, 1, 1, 1, 1, 1, 1, 1, 1, 1, 1, 1, 1, 1, 1,\n",
            "        1, 1, 1, 1, 1, 1, 1, 1, 1, 1, 1, 1, 0, 0, 0, 0, 0, 0, 0, 0, 0, 0, 0, 0,\n",
            "        0, 0, 0, 0, 0, 0, 0, 0, 0, 0, 0, 0, 0, 0, 0, 0, 0, 0, 0, 0, 0, 0, 0, 0,\n",
            "        0, 0, 0, 0, 0, 0, 0, 0, 0, 0, 0, 0, 0, 0, 0, 0, 0, 0, 0, 0, 0, 0, 0, 0,\n",
            "        0, 0, 0, 0, 0, 0, 0, 0])\n"
          ],
          "name": "stdout"
        }
      ]
    },
    {
      "cell_type": "code",
      "metadata": {
        "id": "T5g0_eeikLCH"
      },
      "source": [
        "from torch.utils.data import DataLoader, TensorDataset, RandomSampler, random_split"
      ],
      "execution_count": 32,
      "outputs": []
    },
    {
      "cell_type": "code",
      "metadata": {
        "id": "y5itdrqRkwbI"
      },
      "source": [
        "BATCH_SIZE = 64\n",
        "dataset = TensorDataset(input_ids, token_type_ids, attention_masks, train_labels)\n",
        "\n",
        "dataloader = DataLoader(dataset,\n",
        "                        sampler=RandomSampler(dataset),\n",
        "                        batch_size=BATCH_SIZE)"
      ],
      "execution_count": 33,
      "outputs": []
    },
    {
      "cell_type": "markdown",
      "metadata": {
        "id": "8CT_9YeB4qiQ"
      },
      "source": [
        "## Using BertModel from hugginface to get tweet embeddings"
      ]
    },
    {
      "cell_type": "code",
      "metadata": {
        "id": "i1fTGBT3j_yl"
      },
      "source": [
        "device = torch.device('cuda' if torch.cuda.is_available() else 'cpu')"
      ],
      "execution_count": 34,
      "outputs": []
    },
    {
      "cell_type": "code",
      "metadata": {
        "id": "EhPh_pPphEwG"
      },
      "source": [
        "model = BertModel.from_pretrained('bert-base-uncased', output_hidden_states=True)\n",
        "model.to(device)"
      ],
      "execution_count": null,
      "outputs": []
    },
    {
      "cell_type": "markdown",
      "metadata": {
        "id": "xyJ-V6bK0RSp"
      },
      "source": [
        "Let's use the approach of concatenating the last four layer's hidden states and then averaging token embeddings of non padding tokens of the tweet to get the tweet embedding."
      ]
    },
    {
      "cell_type": "code",
      "metadata": {
        "colab": {
          "base_uri": "https://localhost:8080/"
        },
        "id": "vpZ-T_8ylR3p",
        "outputId": "d7bf2606-f2e8-4329-83ed-bcb8a8586245"
      },
      "source": [
        "%%time\n",
        "model.eval()\n",
        "sentence_embeddings = []\n",
        "sentence_labels = []\n",
        "\n",
        "for i, batch in enumerate(dataloader):\n",
        "    batch_input_ids = batch[0].to(device)\n",
        "    batch_token_type_ids = batch[1].to(device)\n",
        "    batch_attention_mask = batch[2].to(device)\n",
        "    batch_labels = batch[3].to(device)\n",
        "\n",
        "    with torch.no_grad():\n",
        "        outputs = model(input_ids=batch_input_ids, \n",
        "                        token_type_ids=batch_token_type_ids,\n",
        "                        attention_mask=batch_attention_mask)\n",
        "        hidden_states = outputs[2]\n",
        "        pooled_output = torch.cat(tuple([hidden_states[i] for i in [-4, -3, -2, -1]]), dim=-1)\n",
        "        batch_attention_mask = batch_attention_mask.unsqueeze(-1).expand(pooled_output.shape)\n",
        "        pooled_output = torch.mul(pooled_output, batch_attention_mask)\n",
        "        pooled_output = torch.sum(pooled_output, dim=1) / torch.sum(batch_attention_mask, dim=1)\n",
        "\n",
        "    sentence_embeddings.append(pooled_output)\n",
        "    sentence_labels.append(batch_labels)\n",
        "\n",
        "sentence_embeddings = torch.cat(sentence_embeddings, dim=0)\n",
        "sentence_labels = torch.cat(sentence_labels, dim=0)"
      ],
      "execution_count": 50,
      "outputs": [
        {
          "output_type": "stream",
          "text": [
            "CPU times: user 2min 54s, sys: 2min 18s, total: 5min 12s\n",
            "Wall time: 5min 12s\n"
          ],
          "name": "stdout"
        }
      ]
    },
    {
      "cell_type": "code",
      "metadata": {
        "id": "lsTXbUzP_U6n"
      },
      "source": [
        "sentence_dataset = TensorDataset(sentence_embeddings, sentence_labels)"
      ],
      "execution_count": 52,
      "outputs": []
    },
    {
      "cell_type": "markdown",
      "metadata": {
        "id": "pFFY40Xi9s9N"
      },
      "source": [
        "## Training a classifier"
      ]
    },
    {
      "cell_type": "markdown",
      "metadata": {
        "id": "1CWKfiWPGFLW"
      },
      "source": [
        "Let's use some classifier which uses generated tweet's embeddings."
      ]
    },
    {
      "cell_type": "code",
      "metadata": {
        "colab": {
          "base_uri": "https://localhost:8080/"
        },
        "id": "B_JJAgr--vhR",
        "outputId": "922a7181-8526-4822-a7fb-38a3aa549333"
      },
      "source": [
        "train_size = int(0.8 * len(sentence_dataset))\n",
        "val_size = len(sentence_dataset) - train_size\n",
        "\n",
        "train_dataset, val_dataset = random_split(sentence_dataset, [train_size, val_size])\n",
        "\n",
        "print('{:>5,} training samples'.format(train_size))\n",
        "print('{:>5,} validation samples'.format(val_size))"
      ],
      "execution_count": 132,
      "outputs": [
        {
          "output_type": "stream",
          "text": [
            "32,925 training samples\n",
            "8,232 validation samples\n"
          ],
          "name": "stdout"
        }
      ]
    },
    {
      "cell_type": "code",
      "metadata": {
        "id": "lCpzQJ9fAAsg"
      },
      "source": [
        "BATCH_SIZE = 256\n",
        "\n",
        "train_loader = DataLoader(train_dataset, \n",
        "                          sampler=RandomSampler(train_dataset),\n",
        "                          batch_size=BATCH_SIZE)\n",
        "\n",
        "val_loader = DataLoader(val_dataset,\n",
        "                        sampler=RandomSampler(val_dataset),\n",
        "                        batch_size=BATCH_SIZE)"
      ],
      "execution_count": 133,
      "outputs": []
    },
    {
      "cell_type": "code",
      "metadata": {
        "id": "Nepdt5_W6E6H"
      },
      "source": [
        "num_classes = 5\n",
        "\n",
        "classifier = nn.Sequential(\n",
        "    # nn.Dropout(p=0.2),\n",
        "    nn.Linear(in_features=sentence_embeddings.shape[1], out_features=512),\n",
        "    nn.ReLU(),\n",
        "    nn.Dropout(p=0.2),\n",
        "    nn.Linear(in_features=512, out_features=256),\n",
        "    nn.ReLU(),\n",
        "    nn.Dropout(p=0.2),\n",
        "    nn.Linear(in_features=256, out_features=128),\n",
        "    nn.ReLU(),\n",
        "    nn.Dropout(p=0.2),\n",
        "    nn.Linear(in_features=128, out_features=num_classes)\n",
        ")\n",
        "classifier.to(device)"
      ],
      "execution_count": null,
      "outputs": []
    },
    {
      "cell_type": "code",
      "metadata": {
        "id": "MvXlhkGAFKOT"
      },
      "source": [
        "import time\n",
        "from IPython.display import clear_output"
      ],
      "execution_count": 135,
      "outputs": []
    },
    {
      "cell_type": "code",
      "metadata": {
        "id": "n37AExkWCvno"
      },
      "source": [
        "def train(model, device, iterator, optimizer, criterion, train_loss_history=None,\n",
        "          valid_loss_history=None, train_acc_history=None, valid_acc_history=None,\n",
        "          plot_local=True):\n",
        "    model.train()\n",
        "    epoch_loss = 0\n",
        "    train_acc = 0\n",
        "    history = []\n",
        "\n",
        "    for i, (batch, labels) in enumerate(iterator):\n",
        "        batch, labels = batch.to(device), labels.to(device)\n",
        "\n",
        "        optimizer.zero_grad()\n",
        "\n",
        "        output = model(batch)\n",
        "\n",
        "        loss = criterion(output, labels)\n",
        "        loss.backward()\n",
        "\n",
        "        optimizer.step()\n",
        "\n",
        "        epoch_loss += loss.item()\n",
        "\n",
        "        # Calculate train accuracy\n",
        "        ret, predictions = torch.max(output.data, 1)\n",
        "        correct_counts = predictions.eq(labels.data.view_as(predictions))\n",
        "\n",
        "        # Convert correct_counts to float and then compute the mean\n",
        "        acc = torch.mean(correct_counts.type(torch.FloatTensor))\n",
        "\n",
        "        # Compute total accuracy in the whole batch and add to train_acc\n",
        "        train_acc += acc.item()\n",
        "\n",
        "        # Let's clip the gradient\n",
        "        torch.nn.utils.clip_grad_norm_(model.parameters(), 1)\n",
        "\n",
        "        history.append(loss.cpu().data.numpy())\n",
        "        if (i + 1) % 10 == 0:\n",
        "\n",
        "            if plot_local:\n",
        "                fig, ax = plt.subplots(nrows=1, ncols=3, figsize=(18, 8))\n",
        "\n",
        "                clear_output(True)\n",
        "                ax[0].plot(history, label='train loss')\n",
        "                ax[0].set_xlabel('Batch')\n",
        "                ax[0].set_title('Train loss')\n",
        "                if train_loss_history is not None:\n",
        "                    ax[1].plot(train_loss_history, label='train loss history')\n",
        "                    ax[1].set_xlabel('Epoch')\n",
        "                    ax[2].plot(train_acc_history, label='train accuracy history')\n",
        "                    ax[2].set_xlabel('Epoch')\n",
        "                if valid_loss_history is not None:\n",
        "                    ax[1].plot(valid_loss_history, label='valid loss history')\n",
        "                    ax[2].plot(valid_acc_history, label='valid accuracy history')\n",
        "                plt.legend()\n",
        "\n",
        "                plt.show()\n",
        "\n",
        "    return epoch_loss / len(iterator), train_acc / len(iterator)\n",
        "\n",
        "\n",
        "def evaluate(model, device, iterator, criterion):\n",
        "    model.eval()\n",
        "    epoch_loss = 0\n",
        "    valid_acc = 0\n",
        "\n",
        "    with torch.no_grad():\n",
        "        for i, (batch, labels) in enumerate(iterator):\n",
        "            batch, labels = batch.to(device), labels.to(device)\n",
        "\n",
        "            output = model(batch)\n",
        "            loss = criterion(output, labels)\n",
        "\n",
        "            epoch_loss += loss.item()\n",
        "\n",
        "            # Calculate validation accuracy\n",
        "            ret, predictions = torch.max(output.data, 1)\n",
        "            correct_counts = predictions.eq(labels.data.view_as(predictions))\n",
        "\n",
        "            # Convert correct_counts to float and then compute the mean\n",
        "            acc = torch.mean(correct_counts.type(torch.FloatTensor))\n",
        "\n",
        "            # Compute total accuracy in the whole batch and add to valid_acc\n",
        "            valid_acc += acc.item()\n",
        "\n",
        "    return epoch_loss / len(iterator), valid_acc / len(iterator)\n",
        "\n",
        "\n",
        "def epoch_time(start_time, end_time):\n",
        "    elapsed_time = end_time - start_time\n",
        "    elapsed_mins = int(elapsed_time / 60)\n",
        "    elapsed_secs = int(elapsed_time - (elapsed_mins * 60))\n",
        "    return elapsed_mins, elapsed_secs\n",
        "\n",
        "\n",
        "def train_model(model, device, train_iterator, valid_iterator, optimizer, criterion,\n",
        "                lr_scheduler, n_epochs, model_name=\"model.pth\"):\n",
        "    train_loss_history = []\n",
        "    valid_loss_history = []\n",
        "    train_acc_history = []\n",
        "    valid_acc_history = []\n",
        "\n",
        "    best_valid_loss = float('inf')\n",
        "\n",
        "    for epoch in range(n_epochs):\n",
        "\n",
        "        start_time = time.time()\n",
        "\n",
        "        train_loss, train_acc = train(model, device, train_iterator, optimizer, criterion,\n",
        "                                      train_loss_history, valid_loss_history, \n",
        "                                      train_acc_history, valid_acc_history,\n",
        "                                      plot_local=True)\n",
        "        \n",
        "        valid_loss, valid_acc = evaluate(model, device, valid_iterator, criterion)\n",
        "\n",
        "        lr_scheduler.step()\n",
        "\n",
        "        end_time = time.time()\n",
        "\n",
        "        epoch_mins, epoch_secs = epoch_time(start_time, end_time)\n",
        "\n",
        "        if valid_loss < best_valid_loss:\n",
        "            best_valid_loss = valid_loss\n",
        "            torch.save(model.state_dict(), model_name)\n",
        "\n",
        "        train_loss_history.append(train_loss)\n",
        "        valid_loss_history.append(valid_loss)\n",
        "        train_acc_history.append(train_acc)\n",
        "        valid_acc_history.append(valid_acc)\n",
        "\n",
        "        print(f'Epoch: {epoch + 1:02} | Time: {epoch_mins}m {epoch_secs}s')\n",
        "        print(f'\\tTrain Loss: {train_loss:.3f}')\n",
        "        print(f'\\t Val. Loss: {valid_loss:.3f}')"
      ],
      "execution_count": 136,
      "outputs": []
    },
    {
      "cell_type": "code",
      "metadata": {
        "id": "k79R4TSCD4sI"
      },
      "source": [
        "n_epochs = 20\n",
        "opt = torch.optim.AdamW(classifier.parameters(), lr=1e-3)\n",
        "criterion = nn.CrossEntropyLoss()\n",
        "# lr_scheduler = torch.optim.lr_scheduler.CosineAnnealingLR(opt, T_max=20)\n",
        "lr_scheduler = torch.optim.lr_scheduler.StepLR(opt, step_size=5, gamma=0.2)"
      ],
      "execution_count": 137,
      "outputs": []
    },
    {
      "cell_type": "code",
      "metadata": {
        "colab": {
          "base_uri": "https://localhost:8080/",
          "height": 589
        },
        "id": "04Kr5VebEP1A",
        "outputId": "2aeaaa01-607f-4bbe-8bf9-e58e278594be"
      },
      "source": [
        "train_model(classifier, device, train_loader, val_loader, opt, criterion, lr_scheduler, n_epochs)"
      ],
      "execution_count": 138,
      "outputs": [
        {
          "output_type": "display_data",
          "data": {
            "image/png": "[encoded data removed]",
            "text/plain": [
              "<Figure size 1296x576 with 3 Axes>"
            ]
          },
          "metadata": {
            "tags": []
          }
        },
        {
          "output_type": "stream",
          "text": [
            "Epoch: 20 | Time: 0m 9s\n",
            "\tTrain Loss: 1.039\n",
            "\t Val. Loss: 1.155\n"
          ],
          "name": "stdout"
        }
      ]
    },
    {
      "cell_type": "markdown",
      "metadata": {
        "id": "YTwQd2mKEeOS"
      },
      "source": [
        "## Applying model on the test data"
      ]
    },
    {
      "cell_type": "code",
      "metadata": {
        "id": "GyXPFSLFYe4h"
      },
      "source": [
        "input_ids_test = []\n",
        "token_type_ids_test = []\n",
        "attention_masks_test = []\n",
        "\n",
        "for tweet in test_tweets:\n",
        "\n",
        "    encoded_dict_test = tokenizer.encode_plus(text=tweet,\n",
        "                                              add_special_tokens=True,\n",
        "                                              max_length=128,\n",
        "                                              padding='max_length',\n",
        "                                              truncation=True,\n",
        "                                              return_attention_mask=True,\n",
        "                                              return_token_type_ids=True,\n",
        "                                              return_tensors='pt')\n",
        "    \n",
        "    input_ids_test.append(encoded_dict_test['input_ids'])\n",
        "    token_type_ids_test.append(encoded_dict_test['token_type_ids'])\n",
        "    attention_masks_test.append(encoded_dict_test['attention_mask'])\n",
        "\n",
        "input_ids_test = torch.cat(input_ids_test, dim=0)\n",
        "token_type_ids_test = torch.cat(token_type_ids_test, dim=0)\n",
        "attention_masks_test = torch.cat(attention_masks_test, dim=0)"
      ],
      "execution_count": 139,
      "outputs": []
    },
    {
      "cell_type": "code",
      "metadata": {
        "id": "ylvA2jfBYe5E"
      },
      "source": [
        "BATCH_SIZE = 64\n",
        "test_dataset = TensorDataset(input_ids_test, token_type_ids_test, attention_masks_test, test_labels)\n",
        "\n",
        "test_dataloader = DataLoader(test_dataset,\n",
        "                             sampler=RandomSampler(test_dataset),\n",
        "                             batch_size=BATCH_SIZE)"
      ],
      "execution_count": 140,
      "outputs": []
    },
    {
      "cell_type": "code",
      "metadata": {
        "colab": {
          "base_uri": "https://localhost:8080/"
        },
        "id": "9HVX-TLDbv0P",
        "outputId": "a37114c8-d506-4245-e32d-80f1c614f75d"
      },
      "source": [
        "len(test_dataset)"
      ],
      "execution_count": 141,
      "outputs": [
        {
          "output_type": "execute_result",
          "data": {
            "text/plain": [
              "3798"
            ]
          },
          "metadata": {
            "tags": []
          },
          "execution_count": 141
        }
      ]
    },
    {
      "cell_type": "code",
      "metadata": {
        "colab": {
          "base_uri": "https://localhost:8080/"
        },
        "id": "uyFmGnnoYe5E",
        "outputId": "3e5c721c-15e3-4f71-ee30-cd436705bf9f"
      },
      "source": [
        "%%time\n",
        "model.eval()\n",
        "test_sentence_embeddings = []\n",
        "test_sentence_labels = []\n",
        "\n",
        "for i, batch in enumerate(test_dataloader):\n",
        "    batch_input_ids = batch[0].to(device)\n",
        "    batch_token_type_ids = batch[1].to(device)\n",
        "    batch_attention_mask = batch[2].to(device)\n",
        "    batch_labels = batch[3].to(device)\n",
        "\n",
        "    with torch.no_grad():\n",
        "        outputs = model(input_ids=batch_input_ids, \n",
        "                        token_type_ids=batch_token_type_ids,\n",
        "                        attention_mask=batch_attention_mask)\n",
        "        hidden_states = outputs[2]\n",
        "        pooled_output = torch.cat(tuple([hidden_states[i] for i in [-4, -3, -2, -1]]), dim=-1)\n",
        "        batch_attention_mask = batch_attention_mask.unsqueeze(-1).expand(pooled_output.shape)\n",
        "        pooled_output = torch.mul(pooled_output, batch_attention_mask)\n",
        "        pooled_output = torch.sum(pooled_output, dim=1) / torch.sum(batch_attention_mask, dim=1)\n",
        "\n",
        "    test_sentence_embeddings.append(pooled_output)\n",
        "    test_sentence_labels.append(batch_labels)\n",
        "\n",
        "test_sentence_embeddings = torch.cat(test_sentence_embeddings, dim=0)\n",
        "test_sentence_labels = torch.cat(test_sentence_labels, dim=0)"
      ],
      "execution_count": 142,
      "outputs": [
        {
          "output_type": "stream",
          "text": [
            "CPU times: user 14.9 s, sys: 11.4 s, total: 26.3 s\n",
            "Wall time: 26.3 s\n"
          ],
          "name": "stdout"
        }
      ]
    },
    {
      "cell_type": "code",
      "metadata": {
        "id": "zQkvr7y_Ye5G"
      },
      "source": [
        "BATCH_SIZE = 256\n",
        "test_dataset = TensorDataset(test_sentence_embeddings, test_sentence_labels)\n",
        "test_loader = DataLoader(test_dataset, \n",
        "                         sampler=RandomSampler(test_dataset),\n",
        "                         batch_size=BATCH_SIZE)"
      ],
      "execution_count": 143,
      "outputs": []
    },
    {
      "cell_type": "code",
      "metadata": {
        "id": "zlccHbmrYCf1"
      },
      "source": [
        "test_loss, test_accuracy = evaluate(classifier, device, test_loader, criterion)"
      ],
      "execution_count": 144,
      "outputs": []
    },
    {
      "cell_type": "code",
      "metadata": {
        "colab": {
          "base_uri": "https://localhost:8080/"
        },
        "id": "5VhCAoXLaFgf",
        "outputId": "e895831d-d305-4696-e37d-2fd77518fcef"
      },
      "source": [
        "print('Accuracy on test data: {}'.format(test_accuracy))"
      ],
      "execution_count": 145,
      "outputs": [
        {
          "output_type": "stream",
          "text": [
            "Accuracy on test data: 0.5093141555786133\n"
          ],
          "name": "stdout"
        }
      ]
    },
    {
      "cell_type": "markdown",
      "metadata": {
        "id": "hR6AnWYfjysh"
      },
      "source": [
        "## TF-IDF features"
      ]
    },
    {
      "cell_type": "code",
      "metadata": {
        "id": "xaVVXAOGj4Te"
      },
      "source": [
        "from sklearn.feature_extraction.text import TfidfVectorizer\n",
        "from sklearn.linear_model import LogisticRegression\n",
        "from sklearn.model_selection import train_test_split\n",
        "from sklearn.metrics import f1_score, accuracy_score"
      ],
      "execution_count": 146,
      "outputs": []
    },
    {
      "cell_type": "code",
      "metadata": {
        "id": "vetaUZAflfmV"
      },
      "source": [
        "def print_results(estimator, estimator_type, X_val, y_val):\n",
        "    print('F1 score for {} on validation data: {}'.format(estimator_type, f1_score(estimator.predict(X_val), y_val, average='weighted')))\n",
        "    print('Accuracy score for {} on validation data: {}'.format(estimator_type, accuracy_score(estimator.predict(X_val), y_val)))"
      ],
      "execution_count": 147,
      "outputs": []
    },
    {
      "cell_type": "code",
      "metadata": {
        "id": "HaiOUvtolnzJ"
      },
      "source": [
        "X_train, X_val, y_train, y_val = train_test_split(train_tweets, train_labels, train_size=0.8)"
      ],
      "execution_count": 148,
      "outputs": []
    },
    {
      "cell_type": "code",
      "metadata": {
        "id": "bZxHWYKgj8QF"
      },
      "source": [
        "word_vectorizer = TfidfVectorizer(\n",
        "    stop_words='english',\n",
        "    sublinear_tf=True,\n",
        "    strip_accents='unicode',\n",
        "    analyzer='word',\n",
        "    ngram_range=(1, 1),\n",
        "    max_features=30000)\n",
        "\n",
        "word_vectorizer.fit(X_train)\n",
        "train_features = word_vectorizer.transform(X_train)\n",
        "\n",
        "val_features = word_vectorizer.transform(X_val)"
      ],
      "execution_count": 149,
      "outputs": []
    },
    {
      "cell_type": "code",
      "metadata": {
        "colab": {
          "base_uri": "https://localhost:8080/"
        },
        "id": "Xqkvh4mhkZAG",
        "outputId": "ad435c11-8d16-4a36-a262-f8660afdf5f5"
      },
      "source": [
        "log_reg = LogisticRegression(C=10, max_iter=1000)\n",
        "log_reg.fit(train_features, y_train)"
      ],
      "execution_count": 150,
      "outputs": [
        {
          "output_type": "execute_result",
          "data": {
            "text/plain": [
              "LogisticRegression(C=10, class_weight=None, dual=False, fit_intercept=True,\n",
              "                   intercept_scaling=1, l1_ratio=None, max_iter=1000,\n",
              "                   multi_class='auto', n_jobs=None, penalty='l2',\n",
              "                   random_state=None, solver='lbfgs', tol=0.0001, verbose=0,\n",
              "                   warm_start=False)"
            ]
          },
          "metadata": {
            "tags": []
          },
          "execution_count": 150
        }
      ]
    },
    {
      "cell_type": "code",
      "metadata": {
        "colab": {
          "base_uri": "https://localhost:8080/"
        },
        "id": "gP1TZBWumKVM",
        "outputId": "22647df4-d20d-4fb3-bc06-04da6f931a58"
      },
      "source": [
        "print_results(log_reg, 'log reg', val_features, y_val)"
      ],
      "execution_count": 151,
      "outputs": [
        {
          "output_type": "stream",
          "text": [
            "F1 score for log reg on validation data: 0.5755029843213909\n",
            "Accuracy score for log reg on validation data: 0.5761661807580175\n"
          ],
          "name": "stdout"
        }
      ]
    },
    {
      "cell_type": "markdown",
      "metadata": {
        "id": "3xffXnKbpAKi"
      },
      "source": [
        "## Conclusions"
      ]
    },
    {
      "cell_type": "markdown",
      "metadata": {
        "id": "ZqQNZ33JIpTe"
      },
      "source": [
        "It would be more useful to fine-tune BERT on this task than just extract embeddings and combine them to get tweet embeddings. I suppose that the scores would be much higher in this case because the text from tweets is quite specific."
      ]
    }
  ]
}